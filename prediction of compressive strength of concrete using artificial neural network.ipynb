{
  "nbformat": 4,
  "nbformat_minor": 0,
  "metadata": {
    "colab": {
      "name": "Untitled101.ipynb",
      "provenance": [],
      "collapsed_sections": [],
      "include_colab_link": true
    },
    "kernelspec": {
      "name": "python3",
      "display_name": "Python 3"
    },
    "accelerator": "GPU"
  },
  "cells": [
    {
      "cell_type": "markdown",
      "metadata": {
        "id": "view-in-github",
        "colab_type": "text"
      },
      "source": [
        "<a href=\"https://colab.research.google.com/github/Sanpme66/prediction-of-compressive-strength-of-concrete-using-artificial-neural-network/blob/master/prediction%20of%20compressive%20strength%20of%20concrete%20using%20artificial%20neural%20network.ipynb\" target=\"_parent\"><img src=\"https://colab.research.google.com/assets/colab-badge.svg\" alt=\"Open In Colab\"/></a>"
      ]
    },
    {
      "cell_type": "code",
      "metadata": {
        "id": "6D6leI9P0q-o",
        "colab_type": "code",
        "cellView": "form",
        "colab": {}
      },
      "source": [
        "#@title Predicting Compressive Strength of Concrete\n"
      ],
      "execution_count": 0,
      "outputs": []
    },
    {
      "cell_type": "code",
      "metadata": {
        "id": "L_FREL0q066_",
        "colab_type": "code",
        "colab": {}
      },
      "source": [
        "#importing libraries\n",
        "%matplotlib inline\n",
        "import numpy as np\n",
        "import pandas as pd\n",
        "import matplotlib.pyplot as plt\n",
        "import seaborn as sns\n",
        "from sklearn.linear_model import LinearRegression\n",
        "from sklearn.model_selection import train_test_split "
      ],
      "execution_count": 0,
      "outputs": []
    },
    {
      "cell_type": "code",
      "metadata": {
        "id": "PrhXXKW60-iG",
        "colab_type": "code",
        "colab": {}
      },
      "source": [
        "data = pd.read_excel('/content/Concrete_Data.xls')"
      ],
      "execution_count": 0,
      "outputs": []
    },
    {
      "cell_type": "markdown",
      "metadata": {
        "id": "6TouZLQ9gUR8",
        "colab_type": "text"
      },
      "source": [
        "Data exploring and visualizing,Manipulating"
      ]
    },
    {
      "cell_type": "code",
      "metadata": {
        "id": "uVVYG8aLgp8M",
        "colab_type": "code",
        "outputId": "3c7a4ae2-3f16-4adf-a346-45ef392f7b17",
        "colab": {
          "base_uri": "https://localhost:8080/",
          "height": 470
        }
      },
      "source": [
        "data"
      ],
      "execution_count": 0,
      "outputs": [
        {
          "output_type": "execute_result",
          "data": {
            "text/html": [
              "<div>\n",
              "<style scoped>\n",
              "    .dataframe tbody tr th:only-of-type {\n",
              "        vertical-align: middle;\n",
              "    }\n",
              "\n",
              "    .dataframe tbody tr th {\n",
              "        vertical-align: top;\n",
              "    }\n",
              "\n",
              "    .dataframe thead th {\n",
              "        text-align: right;\n",
              "    }\n",
              "</style>\n",
              "<table border=\"1\" class=\"dataframe\">\n",
              "  <thead>\n",
              "    <tr style=\"text-align: right;\">\n",
              "      <th></th>\n",
              "      <th>Cement (component 1)(kg in a m^3 mixture)</th>\n",
              "      <th>Blast Furnace Slag (component 2)(kg in a m^3 mixture)</th>\n",
              "      <th>Fly Ash (component 3)(kg in a m^3 mixture)</th>\n",
              "      <th>Water  (component 4)(kg in a m^3 mixture)</th>\n",
              "      <th>Superplasticizer (component 5)(kg in a m^3 mixture)</th>\n",
              "      <th>Coarse Aggregate  (component 6)(kg in a m^3 mixture)</th>\n",
              "      <th>Fine Aggregate (component 7)(kg in a m^3 mixture)</th>\n",
              "      <th>Age (day)</th>\n",
              "      <th>Concrete compressive strength(MPa, megapascals)</th>\n",
              "    </tr>\n",
              "  </thead>\n",
              "  <tbody>\n",
              "    <tr>\n",
              "      <th>0</th>\n",
              "      <td>540.0</td>\n",
              "      <td>0.0</td>\n",
              "      <td>0.0</td>\n",
              "      <td>162.0</td>\n",
              "      <td>2.5</td>\n",
              "      <td>1040.0</td>\n",
              "      <td>676.0</td>\n",
              "      <td>28</td>\n",
              "      <td>79.986111</td>\n",
              "    </tr>\n",
              "    <tr>\n",
              "      <th>1</th>\n",
              "      <td>540.0</td>\n",
              "      <td>0.0</td>\n",
              "      <td>0.0</td>\n",
              "      <td>162.0</td>\n",
              "      <td>2.5</td>\n",
              "      <td>1055.0</td>\n",
              "      <td>676.0</td>\n",
              "      <td>28</td>\n",
              "      <td>61.887366</td>\n",
              "    </tr>\n",
              "    <tr>\n",
              "      <th>2</th>\n",
              "      <td>332.5</td>\n",
              "      <td>142.5</td>\n",
              "      <td>0.0</td>\n",
              "      <td>228.0</td>\n",
              "      <td>0.0</td>\n",
              "      <td>932.0</td>\n",
              "      <td>594.0</td>\n",
              "      <td>270</td>\n",
              "      <td>40.269535</td>\n",
              "    </tr>\n",
              "    <tr>\n",
              "      <th>3</th>\n",
              "      <td>332.5</td>\n",
              "      <td>142.5</td>\n",
              "      <td>0.0</td>\n",
              "      <td>228.0</td>\n",
              "      <td>0.0</td>\n",
              "      <td>932.0</td>\n",
              "      <td>594.0</td>\n",
              "      <td>365</td>\n",
              "      <td>41.052780</td>\n",
              "    </tr>\n",
              "    <tr>\n",
              "      <th>4</th>\n",
              "      <td>198.6</td>\n",
              "      <td>132.4</td>\n",
              "      <td>0.0</td>\n",
              "      <td>192.0</td>\n",
              "      <td>0.0</td>\n",
              "      <td>978.4</td>\n",
              "      <td>825.5</td>\n",
              "      <td>360</td>\n",
              "      <td>44.296075</td>\n",
              "    </tr>\n",
              "    <tr>\n",
              "      <th>...</th>\n",
              "      <td>...</td>\n",
              "      <td>...</td>\n",
              "      <td>...</td>\n",
              "      <td>...</td>\n",
              "      <td>...</td>\n",
              "      <td>...</td>\n",
              "      <td>...</td>\n",
              "      <td>...</td>\n",
              "      <td>...</td>\n",
              "    </tr>\n",
              "    <tr>\n",
              "      <th>1025</th>\n",
              "      <td>276.4</td>\n",
              "      <td>116.0</td>\n",
              "      <td>90.3</td>\n",
              "      <td>179.6</td>\n",
              "      <td>8.9</td>\n",
              "      <td>870.1</td>\n",
              "      <td>768.3</td>\n",
              "      <td>28</td>\n",
              "      <td>44.284354</td>\n",
              "    </tr>\n",
              "    <tr>\n",
              "      <th>1026</th>\n",
              "      <td>322.2</td>\n",
              "      <td>0.0</td>\n",
              "      <td>115.6</td>\n",
              "      <td>196.0</td>\n",
              "      <td>10.4</td>\n",
              "      <td>817.9</td>\n",
              "      <td>813.4</td>\n",
              "      <td>28</td>\n",
              "      <td>31.178794</td>\n",
              "    </tr>\n",
              "    <tr>\n",
              "      <th>1027</th>\n",
              "      <td>148.5</td>\n",
              "      <td>139.4</td>\n",
              "      <td>108.6</td>\n",
              "      <td>192.7</td>\n",
              "      <td>6.1</td>\n",
              "      <td>892.4</td>\n",
              "      <td>780.0</td>\n",
              "      <td>28</td>\n",
              "      <td>23.696601</td>\n",
              "    </tr>\n",
              "    <tr>\n",
              "      <th>1028</th>\n",
              "      <td>159.1</td>\n",
              "      <td>186.7</td>\n",
              "      <td>0.0</td>\n",
              "      <td>175.6</td>\n",
              "      <td>11.3</td>\n",
              "      <td>989.6</td>\n",
              "      <td>788.9</td>\n",
              "      <td>28</td>\n",
              "      <td>32.768036</td>\n",
              "    </tr>\n",
              "    <tr>\n",
              "      <th>1029</th>\n",
              "      <td>260.9</td>\n",
              "      <td>100.5</td>\n",
              "      <td>78.3</td>\n",
              "      <td>200.6</td>\n",
              "      <td>8.6</td>\n",
              "      <td>864.5</td>\n",
              "      <td>761.5</td>\n",
              "      <td>28</td>\n",
              "      <td>32.401235</td>\n",
              "    </tr>\n",
              "  </tbody>\n",
              "</table>\n",
              "<p>1030 rows × 9 columns</p>\n",
              "</div>"
            ],
            "text/plain": [
              "      Cement (component 1)(kg in a m^3 mixture)  ...  Concrete compressive strength(MPa, megapascals) \n",
              "0                                         540.0  ...                                         79.986111\n",
              "1                                         540.0  ...                                         61.887366\n",
              "2                                         332.5  ...                                         40.269535\n",
              "3                                         332.5  ...                                         41.052780\n",
              "4                                         198.6  ...                                         44.296075\n",
              "...                                         ...  ...                                               ...\n",
              "1025                                      276.4  ...                                         44.284354\n",
              "1026                                      322.2  ...                                         31.178794\n",
              "1027                                      148.5  ...                                         23.696601\n",
              "1028                                      159.1  ...                                         32.768036\n",
              "1029                                      260.9  ...                                         32.401235\n",
              "\n",
              "[1030 rows x 9 columns]"
            ]
          },
          "metadata": {
            "tags": []
          },
          "execution_count": 18
        }
      ]
    },
    {
      "cell_type": "markdown",
      "metadata": {
        "id": "Baipk70thVsb",
        "colab_type": "text"
      },
      "source": [
        "Renaming colums \n",
        ">To better Understanding and fast using key words "
      ]
    },
    {
      "cell_type": "code",
      "metadata": {
        "id": "L7Tt28XCd16h",
        "colab_type": "code",
        "colab": {}
      },
      "source": [
        "data = data.rename(columns={'Cement (component 1)(kg in a m^3 mixture)':\"cement\",\n",
        "       'Blast Furnace Slag (component 2)(kg in a m^3 mixture)':\"furnace_slag\",\n",
        "       'Fly Ash (component 3)(kg in a m^3 mixture)':\"fly_ash\",\n",
        "       'Water  (component 4)(kg in a m^3 mixture)':\"water\",\n",
        "       'Superplasticizer (component 5)(kg in a m^3 mixture)':\"super_plasticizer\",\n",
        "       'Coarse Aggregate  (component 6)(kg in a m^3 mixture)':\"coarse_agg\",\n",
        "       'Fine Aggregate (component 7)(kg in a m^3 mixture)':\"fine_agg\", 'Age (day)':\"age\",\n",
        "       'Concrete compressive strength(MPa, megapascals) ':\"compressive_strength\"})"
      ],
      "execution_count": 0,
      "outputs": []
    },
    {
      "cell_type": "markdown",
      "metadata": {
        "id": "1IZEj9KRhof-",
        "colab_type": "text"
      },
      "source": [
        "Checking data type (info)"
      ]
    },
    {
      "cell_type": "code",
      "metadata": {
        "id": "dR-_H3VRcH63",
        "colab_type": "code",
        "colab": {}
      },
      "source": [
        "data.info()"
      ],
      "execution_count": 0,
      "outputs": []
    },
    {
      "cell_type": "markdown",
      "metadata": {
        "id": "3hFs8GO_h9bT",
        "colab_type": "text"
      },
      "source": [
        "Checking null values "
      ]
    },
    {
      "cell_type": "code",
      "metadata": {
        "id": "0u5wAIwhccoZ",
        "colab_type": "code",
        "colab": {}
      },
      "source": [
        "print (data.isnull().sum())"
      ],
      "execution_count": 0,
      "outputs": []
    },
    {
      "cell_type": "markdown",
      "metadata": {
        "id": "YTTgKOyPIqBJ",
        "colab_type": "text"
      },
      "source": [
        "Exploring statistics info of data "
      ]
    },
    {
      "cell_type": "code",
      "metadata": {
        "id": "1YC0WjCDI_zi",
        "colab_type": "code",
        "colab": {}
      },
      "source": [
        "data.describe().T"
      ],
      "execution_count": 0,
      "outputs": []
    },
    {
      "cell_type": "markdown",
      "metadata": {
        "id": "6fu4nKpiJl2o",
        "colab_type": "text"
      },
      "source": [
        "Observations\n",
        "\n",
        "\n",
        "1.   compressive strength of concrete had a range of 2.3 MPa to 82.6 MPa and 75% of data lies in < 46.1 MPa we need to find outliers \n",
        "2.Check how it's look like in graph \n",
        "\n"
      ]
    },
    {
      "cell_type": "markdown",
      "metadata": {
        "id": "hx5UDXeglbF6",
        "colab_type": "text"
      },
      "source": [
        "Checking skewness"
      ]
    },
    {
      "cell_type": "code",
      "metadata": {
        "id": "_fucH_0oLpi0",
        "colab_type": "code",
        "colab": {}
      },
      "source": [
        "plt.figure(figsize=(13,6))\n",
        "#using distplot() to draw a kernel density estimate line \n",
        "sns.distplot(data[\"compressive_strength\"],color=\"b\",rug=True)\n",
        "#axvline() to plot mean line \n",
        "plt.axvline(data[\"compressive_strength\"].mean(),\n",
        "            linestyle=\"dashed\",color=\"k\",\n",
        "            label='mean',linewidth=2)\n",
        "plt.legend(loc=\"best\",prop={\"size\":14})\n",
        "plt.title(\"Compressivee strength distribution\")\n",
        "plt.show()"
      ],
      "execution_count": 0,
      "outputs": []
    },
    {
      "cell_type": "code",
      "metadata": {
        "id": "Ck8TCitLihKc",
        "colab_type": "code",
        "outputId": "f975812f-fd90-4abb-f24e-41e2da909eec",
        "colab": {
          "base_uri": "https://localhost:8080/",
          "height": 197
        }
      },
      "source": [
        "print(data.median())"
      ],
      "execution_count": 0,
      "outputs": [
        {
          "output_type": "stream",
          "text": [
            "Cement (component 1)(kg in a m^3 mixture)                272.900000\n",
            "Blast Furnace Slag (component 2)(kg in a m^3 mixture)     22.000000\n",
            "Fly Ash (component 3)(kg in a m^3 mixture)                 0.000000\n",
            "Water  (component 4)(kg in a m^3 mixture)                185.000000\n",
            "Superplasticizer (component 5)(kg in a m^3 mixture)        6.350000\n",
            "Coarse Aggregate  (component 6)(kg in a m^3 mixture)     968.000000\n",
            "Fine Aggregate (component 7)(kg in a m^3 mixture)        779.510000\n",
            "Age (day)                                                 28.000000\n",
            "Concrete compressive strength(MPa, megapascals)           34.442774\n",
            "dtype: float64\n"
          ],
          "name": "stdout"
        }
      ]
    },
    {
      "cell_type": "code",
      "metadata": {
        "id": "9iIUdoysjspi",
        "colab_type": "code",
        "outputId": "3055c519-436d-45da-820c-a6d622df1221",
        "colab": {
          "base_uri": "https://localhost:8080/",
          "height": 107
        }
      },
      "source": [
        "print(data.mode())"
      ],
      "execution_count": 0,
      "outputs": [
        {
          "output_type": "stream",
          "text": [
            "   Cement (component 1)(kg in a m^3 mixture)  ...  Concrete compressive strength(MPa, megapascals) \n",
            "0                                      362.6  ...                                         33.398217\n",
            "1                                      425.0  ...                                               NaN\n",
            "\n",
            "[2 rows x 9 columns]\n"
          ],
          "name": "stdout"
        }
      ]
    },
    {
      "cell_type": "markdown",
      "metadata": {
        "id": "wMy0buEgZ-Rv",
        "colab_type": "text"
      },
      "source": [
        "Comments:\n",
        "\n",
        "1. As i said before mean lies less than 40MPa where 75% of data under 46 MPa\n",
        "2. So mean>median>mode == 35.82>34.4>33.39  as seen in figure it's  -ve skewness\n",
        "\n",
        "\n"
      ]
    },
    {
      "cell_type": "markdown",
      "metadata": {
        "id": "subV5M6bYmj9",
        "colab_type": "text"
      },
      "source": [
        "visualization of all dataset features\n",
        "\n",
        "\n",
        "* So that i'm using loop function lib called itertools \n",
        "*   [itertools link](https://docs.python.org/3/library/itertools.html)\n",
        "\n"
      ]
    },
    {
      "cell_type": "code",
      "metadata": {
        "id": "O-36MDi4NFyM",
        "colab_type": "code",
        "colab": {}
      },
      "source": [
        "#using itertools — Functions creating iterators for efficient looping\n",
        "import itertools\n",
        "%matplotlib inline\n",
        "cols = [i for i in data.columns if i not in 'compressive_strength']\n",
        "length = len(cols)\n",
        "cs = [\"b\",\"r\",\"g\",\"c\",\"m\",\"k\",\"lime\",\"c\"]\n",
        "fig = plt.figure(figsize=(13,25))\n",
        "\n",
        "for i,j,k in itertools.zip_longest(cols,range(length),cs):\n",
        "    plt.subplot(4,2,j+1)\n",
        "    ax = sns.distplot(data[i],color=k,rug=True)\n",
        "    ax.set_facecolor(\"w\")\n",
        "    plt.axvline(data[i].mean(),linestyle=\"dashed\",label=\"mean\",color=\"k\")\n",
        "    plt.legend(loc=\"best\")\n",
        "    plt.title(i,color=\"navy\")\n",
        "    plt.xlabel(\"\")"
      ],
      "execution_count": 0,
      "outputs": []
    },
    {
      "cell_type": "markdown",
      "metadata": {
        "id": "wn8L7ec4l4NG",
        "colab_type": "text"
      },
      "source": [
        "Comments:"
      ]
    },
    {
      "cell_type": "markdown",
      "metadata": {
        "id": "c9e0O6yGiFTc",
        "colab_type": "text"
      },
      "source": [
        "##Box plots\n",
        "To find outlier "
      ]
    },
    {
      "cell_type": "code",
      "metadata": {
        "id": "aP_K9KRhgwx7",
        "colab_type": "code",
        "colab": {}
      },
      "source": [
        "plt.subplots(figsize=(16, 8))\n",
        "ax = sns.boxplot(data=data)\n",
        "ax.set_xticklabels(ax.get_xticklabels(), rotation=45);"
      ],
      "execution_count": 0,
      "outputs": []
    },
    {
      "cell_type": "markdown",
      "metadata": {
        "id": "3aeiy_LdiXEU",
        "colab_type": "text"
      },
      "source": [
        "#Observations\n",
        "*   Age column appears to be having maximum number of outliers\n",
        "* Slag, Water, superplastic, fineagg features have some outliers \n",
        "* All features except age and strength have same units(kg in m3 mixture) but have different scales. Thus we might need to scale the data so as to avoid bias(underfit) in algorithms \n",
        "\n"
      ]
    },
    {
      "cell_type": "code",
      "metadata": {
        "id": "MkJK-IujWB-U",
        "colab_type": "code",
        "colab": {}
      },
      "source": [
        "plt.figure(figsize=(6,6))\n",
        "sns.pairplot(data,markers=\"h\")\n",
        "plt.show()\n",
        "plt.close()"
      ],
      "execution_count": 0,
      "outputs": []
    },
    {
      "cell_type": "markdown",
      "metadata": {
        "id": "QrRdjFu7etuz",
        "colab_type": "text"
      },
      "source": [
        "Checking correlation b/w all variables "
      ]
    },
    {
      "cell_type": "code",
      "metadata": {
        "id": "M5HcL6DEeAbv",
        "colab_type": "code",
        "outputId": "32e4e478-0d94-4f26-a2c1-94a5a5d880ee",
        "colab": {
          "base_uri": "https://localhost:8080/",
          "height": 708
        }
      },
      "source": [
        "cor_v = data.corr()\n",
        "\n",
        "mask = np.zeros_like(cor_v)\n",
        "mask[np.triu_indices_from(mask)] = True\n",
        "\n",
        "plt.figure(figsize=(12,10))\n",
        "\n",
        "with sns.axes_style(\"white\"):\n",
        "    sns.heatmap(cor,annot=True,linewidth=2,\n",
        "                mask = mask,cmap=\"magma\")\n",
        "plt.title(\"Correlation between variables\")\n",
        "plt.show()"
      ],
      "execution_count": 0,
      "outputs": [
        {
          "output_type": "display_data",
          "data": {
            "image/png": "[encoded data removed]",
            "text/plain": [
              "<Figure size 864x720 with 2 Axes>"
            ]
          },
          "metadata": {
            "tags": []
          }
        }
      ]
    },
    {
      "cell_type": "code",
      "metadata": {
        "id": "LqXgOqOOgFdK",
        "colab_type": "code",
        "colab": {}
      },
      "source": [
        ""
      ],
      "execution_count": 0,
      "outputs": []
    },
    {
      "cell_type": "code",
      "metadata": {
        "id": "icdZulG21OJF",
        "colab_type": "code",
        "colab": {}
      },
      "source": [
        "x_ind = data.iloc[0:1030,[0,1,2,3,4,5,6,7]]\n",
        "x_ind.shape"
      ],
      "execution_count": 0,
      "outputs": []
    },
    {
      "cell_type": "code",
      "metadata": {
        "id": "eQ8GfyHZr-lU",
        "colab_type": "code",
        "colab": {}
      },
      "source": [
        "y_dep = data.iloc[0:1030,[8]]\n",
        "y_dep.shape"
      ],
      "execution_count": 0,
      "outputs": []
    },
    {
      "cell_type": "code",
      "metadata": {
        "id": "7aUR20IksZb9",
        "colab_type": "code",
        "colab": {}
      },
      "source": [
        "vect_x_ind = x_ind.values\n",
        "vect_y_dep =y_dep.values"
      ],
      "execution_count": 0,
      "outputs": []
    },
    {
      "cell_type": "code",
      "metadata": {
        "id": "624vhXvpvsR9",
        "colab_type": "code",
        "colab": {}
      },
      "source": [
        "from sklearn.preprocessing import MinMaxScaler\n",
        "#Scale the data\n",
        "scaler = MinMaxScaler(feature_range=(0,1))\n",
        "x_scaled = scaler.fit_transform(x_ind)\n",
        "y_scaled = scaler.fit_transform(y_dep)\n",
        "print(x_scaled)\n",
        "print(y_scaled)"
      ],
      "execution_count": 0,
      "outputs": []
    },
    {
      "cell_type": "code",
      "metadata": {
        "id": "mrgcsjpCd_u3",
        "colab_type": "code",
        "colab": {}
      },
      "source": [
        ""
      ],
      "execution_count": 0,
      "outputs": []
    },
    {
      "cell_type": "code",
      "metadata": {
        "id": "xKWGIr4qtB2e",
        "colab_type": "code",
        "colab": {}
      },
      "source": [
        "print(vect_x_ind)"
      ],
      "execution_count": 0,
      "outputs": []
    },
    {
      "cell_type": "code",
      "metadata": {
        "id": "-eOM9bY5tGqx",
        "colab_type": "code",
        "colab": {}
      },
      "source": [
        "print(vect_y_dep)"
      ],
      "execution_count": 0,
      "outputs": []
    },
    {
      "cell_type": "code",
      "metadata": {
        "id": "37oF0p8btag-",
        "colab_type": "code",
        "colab": {}
      },
      "source": [
        "print(x_ind.keys())"
      ],
      "execution_count": 0,
      "outputs": []
    },
    {
      "cell_type": "code",
      "metadata": {
        "id": "r6At1WU14rTl",
        "colab_type": "code",
        "colab": {}
      },
      "source": [
        "print(x_scaled.shape)\n",
        "print(y_scaled.shape)"
      ],
      "execution_count": 0,
      "outputs": []
    },
    {
      "cell_type": "code",
      "metadata": {
        "id": "vQF4aKcxuXTs",
        "colab_type": "code",
        "colab": {}
      },
      "source": [
        ""
      ],
      "execution_count": 0,
      "outputs": []
    }
  ]
}